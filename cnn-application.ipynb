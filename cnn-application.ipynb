{
 "cells": [
  {
   "cell_type": "code",
   "execution_count": 1,
   "id": "04261331",
   "metadata": {
    "_cell_guid": "b1076dfc-b9ad-4769-8c92-a6c4dae69d19",
    "_uuid": "8f2839f25d086af736a60e9eeb907d3b93b6e0e5",
    "execution": {
     "iopub.execute_input": "2025-08-10T18:03:05.566146Z",
     "iopub.status.busy": "2025-08-10T18:03:05.565705Z",
     "iopub.status.idle": "2025-08-10T18:03:07.707586Z",
     "shell.execute_reply": "2025-08-10T18:03:07.706396Z"
    },
    "papermill": {
     "duration": 2.151053,
     "end_time": "2025-08-10T18:03:07.709476",
     "exception": false,
     "start_time": "2025-08-10T18:03:05.558423",
     "status": "completed"
    },
    "tags": []
   },
   "outputs": [],
   "source": [
    "# This Python 3 environment comes with many helpful analytics libraries installed\n",
    "# It is defined by the kaggle/python Docker image: https://github.com/kaggle/docker-python\n",
    "# For example, here's several helpful packages to load\n",
    "import numpy as np # linear algebra\n",
    "import pandas as pd # data processing, CSV file I/O (e.g. pd.read_csv)\n",
    "# Input data files are available in the read-only \"../input/\" directory\n",
    "# For example, running this (by clicking run or pressing Shift+Enter) will list all files under the input directory\n",
    "import os\n",
    "# You can write up to 20GB to the current directory (/kaggle/working/) that gets preserved as output when you create a version using \"Save & Run All\" \n",
    "# You can also write temporary files to /kaggle/temp/, but they won't be saved outside of the current session"
   ]
  },
  {
   "cell_type": "code",
   "execution_count": 2,
   "id": "bc706b02",
   "metadata": {
    "execution": {
     "iopub.execute_input": "2025-08-10T18:03:07.719574Z",
     "iopub.status.busy": "2025-08-10T18:03:07.719145Z",
     "iopub.status.idle": "2025-08-10T18:03:28.536338Z",
     "shell.execute_reply": "2025-08-10T18:03:28.535173Z"
    },
    "papermill": {
     "duration": 20.824315,
     "end_time": "2025-08-10T18:03:28.538405",
     "exception": false,
     "start_time": "2025-08-10T18:03:07.714090",
     "status": "completed"
    },
    "tags": []
   },
   "outputs": [
    {
     "name": "stderr",
     "output_type": "stream",
     "text": [
      "2025-08-10 18:03:09.560649: E external/local_xla/xla/stream_executor/cuda/cuda_fft.cc:477] Unable to register cuFFT factory: Attempting to register factory for plugin cuFFT when one has already been registered\n",
      "WARNING: All log messages before absl::InitializeLog() is called are written to STDERR\n",
      "E0000 00:00:1754848989.807615      13 cuda_dnn.cc:8310] Unable to register cuDNN factory: Attempting to register factory for plugin cuDNN when one has already been registered\n",
      "E0000 00:00:1754848989.879369      13 cuda_blas.cc:1418] Unable to register cuBLAS factory: Attempting to register factory for plugin cuBLAS when one has already been registered\n"
     ]
    }
   ],
   "source": [
    "from PIL import Image\n",
    "import tensorflow as tf\n",
    "import matplotlib.pyplot as plt"
   ]
  },
  {
   "cell_type": "code",
   "execution_count": 3,
   "id": "86070b95",
   "metadata": {
    "execution": {
     "iopub.execute_input": "2025-08-10T18:03:28.549259Z",
     "iopub.status.busy": "2025-08-10T18:03:28.548008Z",
     "iopub.status.idle": "2025-08-10T18:05:00.053607Z",
     "shell.execute_reply": "2025-08-10T18:05:00.052212Z"
    },
    "papermill": {
     "duration": 91.515967,
     "end_time": "2025-08-10T18:05:00.058921",
     "exception": false,
     "start_time": "2025-08-10T18:03:28.542954",
     "status": "completed"
    },
    "tags": []
   },
   "outputs": [
    {
     "name": "stdout",
     "output_type": "stream",
     "text": [
      "4\n",
      "Train images: (18000, 128, 128), Train labels: (18000,)\n",
      "Test images: (3600, 128, 128), Test labels: (3600,)\n"
     ]
    }
   ],
   "source": [
    "train_dir = \"../input/fingers/train\"\n",
    "test_dir = \"../input/fingers/test\"\n",
    "img_size = (128, 128)\n",
    "\n",
    "def load_images_and_labels(directory):\n",
    "    images = []\n",
    "    labels = []\n",
    "    for file in os.listdir(directory):\n",
    "        file_path = os.path.join(directory, file)\n",
    "        img = Image.open(file_path).resize(img_size)\n",
    "        images.append(np.array(img))\n",
    "        label_part = file.split('_')[1]  \n",
    "        label = int(label_part[0])       \n",
    "        labels.append(label)\n",
    "    return np.array(images), np.array(labels)\n",
    "train_images, Y_train = load_images_and_labels(train_dir)\n",
    "test_images, Y_test = load_images_and_labels(test_dir)\n",
    "print(Y_train[0])\n",
    "print(f\"Train images: {train_images.shape}, Train labels: {Y_train.shape}\")\n",
    "print(f\"Test images: {test_images.shape}, Test labels: {Y_test.shape}\")\n"
   ]
  },
  {
   "cell_type": "code",
   "execution_count": 4,
   "id": "98b4474f",
   "metadata": {
    "execution": {
     "iopub.execute_input": "2025-08-10T18:05:00.068922Z",
     "iopub.status.busy": "2025-08-10T18:05:00.068483Z",
     "iopub.status.idle": "2025-08-10T18:05:00.074260Z",
     "shell.execute_reply": "2025-08-10T18:05:00.073134Z"
    },
    "papermill": {
     "duration": 0.013345,
     "end_time": "2025-08-10T18:05:00.076279",
     "exception": false,
     "start_time": "2025-08-10T18:05:00.062934",
     "status": "completed"
    },
    "tags": []
   },
   "outputs": [],
   "source": [
    "X_train = train_images.reshape(-1, 128, 128, 1)\n",
    "X_test = test_images.reshape(-1, 128, 128, 1)"
   ]
  },
  {
   "cell_type": "code",
   "execution_count": 5,
   "id": "5bd035eb",
   "metadata": {
    "execution": {
     "iopub.execute_input": "2025-08-10T18:05:00.086797Z",
     "iopub.status.busy": "2025-08-10T18:05:00.086398Z",
     "iopub.status.idle": "2025-08-10T18:05:04.412168Z",
     "shell.execute_reply": "2025-08-10T18:05:04.410981Z"
    },
    "papermill": {
     "duration": 4.333563,
     "end_time": "2025-08-10T18:05:04.414490",
     "exception": false,
     "start_time": "2025-08-10T18:05:00.080927",
     "status": "completed"
    },
    "tags": []
   },
   "outputs": [],
   "source": [
    "from sklearn.model_selection import train_test_split\n",
    "X_train = X_train / 255.0\n",
    "X_test = X_test / 255.0\n",
    "X_train, X_test, Y_train, Y_test = train_test_split(X_train, Y_train, test_size=0.2, random_state=42)"
   ]
  },
  {
   "cell_type": "code",
   "execution_count": 6,
   "id": "d7cf0d40",
   "metadata": {
    "execution": {
     "iopub.execute_input": "2025-08-10T18:05:04.427124Z",
     "iopub.status.busy": "2025-08-10T18:05:04.426725Z",
     "iopub.status.idle": "2025-08-10T18:05:04.434692Z",
     "shell.execute_reply": "2025-08-10T18:05:04.432934Z"
    },
    "papermill": {
     "duration": 0.016671,
     "end_time": "2025-08-10T18:05:04.436669",
     "exception": false,
     "start_time": "2025-08-10T18:05:04.419998",
     "status": "completed"
    },
    "tags": []
   },
   "outputs": [
    {
     "name": "stdout",
     "output_type": "stream",
     "text": [
      "number of training examples = 14400\n",
      "number of test examples = 3600\n",
      "X_train shape: (14400, 128, 128, 1)\n",
      "Y_train shape: (14400,)\n",
      "X_test shape: (3600, 128, 128, 1)\n",
      "Y_test shape: (3600,)\n"
     ]
    }
   ],
   "source": [
    "print (\"number of training examples = \" + str(X_train.shape[0]))\n",
    "print (\"number of test examples = \" + str(X_test.shape[0]))\n",
    "print (\"X_train shape: \" + str(X_train.shape))\n",
    "print (\"Y_train shape: \" + str(Y_train.shape))\n",
    "print (\"X_test shape: \" + str(X_test.shape))\n",
    "print (\"Y_test shape: \" + str(Y_test.shape))"
   ]
  },
  {
   "cell_type": "code",
   "execution_count": 7,
   "id": "76b0b1ae",
   "metadata": {
    "execution": {
     "iopub.execute_input": "2025-08-10T18:05:04.446964Z",
     "iopub.status.busy": "2025-08-10T18:05:04.446504Z",
     "iopub.status.idle": "2025-08-10T18:05:04.532829Z",
     "shell.execute_reply": "2025-08-10T18:05:04.531767Z"
    },
    "papermill": {
     "duration": 0.094117,
     "end_time": "2025-08-10T18:05:04.535080",
     "exception": false,
     "start_time": "2025-08-10T18:05:04.440963",
     "status": "completed"
    },
    "tags": []
   },
   "outputs": [],
   "source": [
    "from tensorflow.keras.utils import to_categorical\n",
    "\n",
    "Y_train = to_categorical(Y_train, num_classes=12)\n",
    "Y_test = to_categorical(Y_test, num_classes=12)"
   ]
  },
  {
   "cell_type": "code",
   "execution_count": 8,
   "id": "9f41b503",
   "metadata": {
    "execution": {
     "iopub.execute_input": "2025-08-10T18:05:04.546219Z",
     "iopub.status.busy": "2025-08-10T18:05:04.545878Z",
     "iopub.status.idle": "2025-08-10T18:05:04.553917Z",
     "shell.execute_reply": "2025-08-10T18:05:04.552392Z"
    },
    "papermill": {
     "duration": 0.015443,
     "end_time": "2025-08-10T18:05:04.556010",
     "exception": false,
     "start_time": "2025-08-10T18:05:04.540567",
     "status": "completed"
    },
    "tags": []
   },
   "outputs": [
    {
     "name": "stdout",
     "output_type": "stream",
     "text": [
      "number of training examples = 14400\n",
      "number of test examples = 3600\n",
      "X_train shape: (14400, 128, 128, 1)\n",
      "Y_train shape: (14400, 12)\n",
      "X_test shape: (3600, 128, 128, 1)\n",
      "Y_test shape: (3600, 12)\n"
     ]
    }
   ],
   "source": [
    "print (\"number of training examples = \" + str(X_train.shape[0]))\n",
    "print (\"number of test examples = \" + str(X_test.shape[0]))\n",
    "print (\"X_train shape: \" + str(X_train.shape))\n",
    "print (\"Y_train shape: \" + str(Y_train.shape))\n",
    "print (\"X_test shape: \" + str(X_test.shape))\n",
    "print (\"Y_test shape: \" + str(Y_test.shape))"
   ]
  },
  {
   "cell_type": "code",
   "execution_count": 9,
   "id": "60d90abd",
   "metadata": {
    "execution": {
     "iopub.execute_input": "2025-08-10T18:05:04.568749Z",
     "iopub.status.busy": "2025-08-10T18:05:04.568399Z",
     "iopub.status.idle": "2025-08-10T18:05:04.575938Z",
     "shell.execute_reply": "2025-08-10T18:05:04.574697Z"
    },
    "papermill": {
     "duration": 0.016164,
     "end_time": "2025-08-10T18:05:04.577893",
     "exception": false,
     "start_time": "2025-08-10T18:05:04.561729",
     "status": "completed"
    },
    "tags": []
   },
   "outputs": [],
   "source": [
    "import tensorflow.keras.layers as tfl"
   ]
  },
  {
   "cell_type": "code",
   "execution_count": 10,
   "id": "f4b76265",
   "metadata": {
    "execution": {
     "iopub.execute_input": "2025-08-10T18:05:04.588163Z",
     "iopub.status.busy": "2025-08-10T18:05:04.587781Z",
     "iopub.status.idle": "2025-08-10T18:05:04.593685Z",
     "shell.execute_reply": "2025-08-10T18:05:04.592545Z"
    },
    "papermill": {
     "duration": 0.013156,
     "end_time": "2025-08-10T18:05:04.595682",
     "exception": false,
     "start_time": "2025-08-10T18:05:04.582526",
     "status": "completed"
    },
    "tags": []
   },
   "outputs": [
    {
     "name": "stdout",
     "output_type": "stream",
     "text": [
      "(14400, 128, 128, 1)\n",
      "(14400, 12)\n"
     ]
    }
   ],
   "source": [
    "print(X_train.shape)  # Should be (14400, 128, 128, 1)\n",
    "print(Y_train.shape)  # Should be (14400, 12)\n"
   ]
  },
  {
   "cell_type": "code",
   "execution_count": 11,
   "id": "9f2294fe",
   "metadata": {
    "execution": {
     "iopub.execute_input": "2025-08-10T18:05:04.610928Z",
     "iopub.status.busy": "2025-08-10T18:05:04.610516Z",
     "iopub.status.idle": "2025-08-10T18:05:04.618463Z",
     "shell.execute_reply": "2025-08-10T18:05:04.617351Z"
    },
    "papermill": {
     "duration": 0.017971,
     "end_time": "2025-08-10T18:05:04.620520",
     "exception": false,
     "start_time": "2025-08-10T18:05:04.602549",
     "status": "completed"
    },
    "tags": []
   },
   "outputs": [],
   "source": [
    "def convolutional_model(input_shape):\n",
    "    input_img = tf.keras.Input(shape=input_shape)\n",
    "    \n",
    "    Z1 = tfl.Conv2D(filters=8, kernel_size=(4, 4), strides=(1, 1), padding='same')(input_img)\n",
    "    A1 = tfl.ReLU()(Z1)\n",
    "    P1 = tfl.MaxPool2D(pool_size=(8, 8), strides=(8, 8), padding=\"same\")(A1)\n",
    "    \n",
    "    Z2 = tfl.Conv2D(filters=16, kernel_size=(2, 2), strides=(1, 1), padding='same')(P1)\n",
    "    A2 = tfl.ReLU()(Z2)\n",
    "    P2 = tfl.MaxPool2D(pool_size=(4, 4), strides=(4, 4), padding=\"same\")(A2)\n",
    "    \n",
    "    F = tfl.Flatten()(P2)\n",
    "    outputs = tfl.Dense(units=12, activation='softmax')(F)\n",
    "\n",
    "    model = tf.keras.Model(inputs=input_img, outputs=outputs)\n",
    "    return model\n"
   ]
  },
  {
   "cell_type": "code",
   "execution_count": 12,
   "id": "53531a70",
   "metadata": {
    "execution": {
     "iopub.execute_input": "2025-08-10T18:05:04.633167Z",
     "iopub.status.busy": "2025-08-10T18:05:04.632756Z",
     "iopub.status.idle": "2025-08-10T18:05:04.776895Z",
     "shell.execute_reply": "2025-08-10T18:05:04.775578Z"
    },
    "papermill": {
     "duration": 0.152545,
     "end_time": "2025-08-10T18:05:04.778908",
     "exception": false,
     "start_time": "2025-08-10T18:05:04.626363",
     "status": "completed"
    },
    "tags": []
   },
   "outputs": [
    {
     "name": "stderr",
     "output_type": "stream",
     "text": [
      "2025-08-10 18:05:04.645890: E external/local_xla/xla/stream_executor/cuda/cuda_driver.cc:152] failed call to cuInit: INTERNAL: CUDA error: Failed call to cuInit: UNKNOWN ERROR (303)\n"
     ]
    },
    {
     "data": {
      "text/html": [
       "<pre style=\"white-space:pre;overflow-x:auto;line-height:normal;font-family:Menlo,'DejaVu Sans Mono',consolas,'Courier New',monospace\"><span style=\"font-weight: bold\">Model: \"functional\"</span>\n",
       "</pre>\n"
      ],
      "text/plain": [
       "\u001b[1mModel: \"functional\"\u001b[0m\n"
      ]
     },
     "metadata": {},
     "output_type": "display_data"
    },
    {
     "data": {
      "text/html": [
       "<pre style=\"white-space:pre;overflow-x:auto;line-height:normal;font-family:Menlo,'DejaVu Sans Mono',consolas,'Courier New',monospace\">┏━━━━━━━━━━━━━━━━━━━━━━━━━━━━━━━━━┳━━━━━━━━━━━━━━━━━━━━━━━━┳━━━━━━━━━━━━━━━┓\n",
       "┃<span style=\"font-weight: bold\"> Layer (type)                    </span>┃<span style=\"font-weight: bold\"> Output Shape           </span>┃<span style=\"font-weight: bold\">       Param # </span>┃\n",
       "┡━━━━━━━━━━━━━━━━━━━━━━━━━━━━━━━━━╇━━━━━━━━━━━━━━━━━━━━━━━━╇━━━━━━━━━━━━━━━┩\n",
       "│ input_layer (<span style=\"color: #0087ff; text-decoration-color: #0087ff\">InputLayer</span>)        │ (<span style=\"color: #00d7ff; text-decoration-color: #00d7ff\">None</span>, <span style=\"color: #00af00; text-decoration-color: #00af00\">128</span>, <span style=\"color: #00af00; text-decoration-color: #00af00\">128</span>, <span style=\"color: #00af00; text-decoration-color: #00af00\">1</span>)    │             <span style=\"color: #00af00; text-decoration-color: #00af00\">0</span> │\n",
       "├─────────────────────────────────┼────────────────────────┼───────────────┤\n",
       "│ conv2d (<span style=\"color: #0087ff; text-decoration-color: #0087ff\">Conv2D</span>)                 │ (<span style=\"color: #00d7ff; text-decoration-color: #00d7ff\">None</span>, <span style=\"color: #00af00; text-decoration-color: #00af00\">128</span>, <span style=\"color: #00af00; text-decoration-color: #00af00\">128</span>, <span style=\"color: #00af00; text-decoration-color: #00af00\">8</span>)    │           <span style=\"color: #00af00; text-decoration-color: #00af00\">136</span> │\n",
       "├─────────────────────────────────┼────────────────────────┼───────────────┤\n",
       "│ re_lu (<span style=\"color: #0087ff; text-decoration-color: #0087ff\">ReLU</span>)                    │ (<span style=\"color: #00d7ff; text-decoration-color: #00d7ff\">None</span>, <span style=\"color: #00af00; text-decoration-color: #00af00\">128</span>, <span style=\"color: #00af00; text-decoration-color: #00af00\">128</span>, <span style=\"color: #00af00; text-decoration-color: #00af00\">8</span>)    │             <span style=\"color: #00af00; text-decoration-color: #00af00\">0</span> │\n",
       "├─────────────────────────────────┼────────────────────────┼───────────────┤\n",
       "│ max_pooling2d (<span style=\"color: #0087ff; text-decoration-color: #0087ff\">MaxPooling2D</span>)    │ (<span style=\"color: #00d7ff; text-decoration-color: #00d7ff\">None</span>, <span style=\"color: #00af00; text-decoration-color: #00af00\">16</span>, <span style=\"color: #00af00; text-decoration-color: #00af00\">16</span>, <span style=\"color: #00af00; text-decoration-color: #00af00\">8</span>)      │             <span style=\"color: #00af00; text-decoration-color: #00af00\">0</span> │\n",
       "├─────────────────────────────────┼────────────────────────┼───────────────┤\n",
       "│ conv2d_1 (<span style=\"color: #0087ff; text-decoration-color: #0087ff\">Conv2D</span>)               │ (<span style=\"color: #00d7ff; text-decoration-color: #00d7ff\">None</span>, <span style=\"color: #00af00; text-decoration-color: #00af00\">16</span>, <span style=\"color: #00af00; text-decoration-color: #00af00\">16</span>, <span style=\"color: #00af00; text-decoration-color: #00af00\">16</span>)     │           <span style=\"color: #00af00; text-decoration-color: #00af00\">528</span> │\n",
       "├─────────────────────────────────┼────────────────────────┼───────────────┤\n",
       "│ re_lu_1 (<span style=\"color: #0087ff; text-decoration-color: #0087ff\">ReLU</span>)                  │ (<span style=\"color: #00d7ff; text-decoration-color: #00d7ff\">None</span>, <span style=\"color: #00af00; text-decoration-color: #00af00\">16</span>, <span style=\"color: #00af00; text-decoration-color: #00af00\">16</span>, <span style=\"color: #00af00; text-decoration-color: #00af00\">16</span>)     │             <span style=\"color: #00af00; text-decoration-color: #00af00\">0</span> │\n",
       "├─────────────────────────────────┼────────────────────────┼───────────────┤\n",
       "│ max_pooling2d_1 (<span style=\"color: #0087ff; text-decoration-color: #0087ff\">MaxPooling2D</span>)  │ (<span style=\"color: #00d7ff; text-decoration-color: #00d7ff\">None</span>, <span style=\"color: #00af00; text-decoration-color: #00af00\">4</span>, <span style=\"color: #00af00; text-decoration-color: #00af00\">4</span>, <span style=\"color: #00af00; text-decoration-color: #00af00\">16</span>)       │             <span style=\"color: #00af00; text-decoration-color: #00af00\">0</span> │\n",
       "├─────────────────────────────────┼────────────────────────┼───────────────┤\n",
       "│ flatten (<span style=\"color: #0087ff; text-decoration-color: #0087ff\">Flatten</span>)               │ (<span style=\"color: #00d7ff; text-decoration-color: #00d7ff\">None</span>, <span style=\"color: #00af00; text-decoration-color: #00af00\">256</span>)            │             <span style=\"color: #00af00; text-decoration-color: #00af00\">0</span> │\n",
       "├─────────────────────────────────┼────────────────────────┼───────────────┤\n",
       "│ dense (<span style=\"color: #0087ff; text-decoration-color: #0087ff\">Dense</span>)                   │ (<span style=\"color: #00d7ff; text-decoration-color: #00d7ff\">None</span>, <span style=\"color: #00af00; text-decoration-color: #00af00\">12</span>)             │         <span style=\"color: #00af00; text-decoration-color: #00af00\">3,084</span> │\n",
       "└─────────────────────────────────┴────────────────────────┴───────────────┘\n",
       "</pre>\n"
      ],
      "text/plain": [
       "┏━━━━━━━━━━━━━━━━━━━━━━━━━━━━━━━━━┳━━━━━━━━━━━━━━━━━━━━━━━━┳━━━━━━━━━━━━━━━┓\n",
       "┃\u001b[1m \u001b[0m\u001b[1mLayer (type)                   \u001b[0m\u001b[1m \u001b[0m┃\u001b[1m \u001b[0m\u001b[1mOutput Shape          \u001b[0m\u001b[1m \u001b[0m┃\u001b[1m \u001b[0m\u001b[1m      Param #\u001b[0m\u001b[1m \u001b[0m┃\n",
       "┡━━━━━━━━━━━━━━━━━━━━━━━━━━━━━━━━━╇━━━━━━━━━━━━━━━━━━━━━━━━╇━━━━━━━━━━━━━━━┩\n",
       "│ input_layer (\u001b[38;5;33mInputLayer\u001b[0m)        │ (\u001b[38;5;45mNone\u001b[0m, \u001b[38;5;34m128\u001b[0m, \u001b[38;5;34m128\u001b[0m, \u001b[38;5;34m1\u001b[0m)    │             \u001b[38;5;34m0\u001b[0m │\n",
       "├─────────────────────────────────┼────────────────────────┼───────────────┤\n",
       "│ conv2d (\u001b[38;5;33mConv2D\u001b[0m)                 │ (\u001b[38;5;45mNone\u001b[0m, \u001b[38;5;34m128\u001b[0m, \u001b[38;5;34m128\u001b[0m, \u001b[38;5;34m8\u001b[0m)    │           \u001b[38;5;34m136\u001b[0m │\n",
       "├─────────────────────────────────┼────────────────────────┼───────────────┤\n",
       "│ re_lu (\u001b[38;5;33mReLU\u001b[0m)                    │ (\u001b[38;5;45mNone\u001b[0m, \u001b[38;5;34m128\u001b[0m, \u001b[38;5;34m128\u001b[0m, \u001b[38;5;34m8\u001b[0m)    │             \u001b[38;5;34m0\u001b[0m │\n",
       "├─────────────────────────────────┼────────────────────────┼───────────────┤\n",
       "│ max_pooling2d (\u001b[38;5;33mMaxPooling2D\u001b[0m)    │ (\u001b[38;5;45mNone\u001b[0m, \u001b[38;5;34m16\u001b[0m, \u001b[38;5;34m16\u001b[0m, \u001b[38;5;34m8\u001b[0m)      │             \u001b[38;5;34m0\u001b[0m │\n",
       "├─────────────────────────────────┼────────────────────────┼───────────────┤\n",
       "│ conv2d_1 (\u001b[38;5;33mConv2D\u001b[0m)               │ (\u001b[38;5;45mNone\u001b[0m, \u001b[38;5;34m16\u001b[0m, \u001b[38;5;34m16\u001b[0m, \u001b[38;5;34m16\u001b[0m)     │           \u001b[38;5;34m528\u001b[0m │\n",
       "├─────────────────────────────────┼────────────────────────┼───────────────┤\n",
       "│ re_lu_1 (\u001b[38;5;33mReLU\u001b[0m)                  │ (\u001b[38;5;45mNone\u001b[0m, \u001b[38;5;34m16\u001b[0m, \u001b[38;5;34m16\u001b[0m, \u001b[38;5;34m16\u001b[0m)     │             \u001b[38;5;34m0\u001b[0m │\n",
       "├─────────────────────────────────┼────────────────────────┼───────────────┤\n",
       "│ max_pooling2d_1 (\u001b[38;5;33mMaxPooling2D\u001b[0m)  │ (\u001b[38;5;45mNone\u001b[0m, \u001b[38;5;34m4\u001b[0m, \u001b[38;5;34m4\u001b[0m, \u001b[38;5;34m16\u001b[0m)       │             \u001b[38;5;34m0\u001b[0m │\n",
       "├─────────────────────────────────┼────────────────────────┼───────────────┤\n",
       "│ flatten (\u001b[38;5;33mFlatten\u001b[0m)               │ (\u001b[38;5;45mNone\u001b[0m, \u001b[38;5;34m256\u001b[0m)            │             \u001b[38;5;34m0\u001b[0m │\n",
       "├─────────────────────────────────┼────────────────────────┼───────────────┤\n",
       "│ dense (\u001b[38;5;33mDense\u001b[0m)                   │ (\u001b[38;5;45mNone\u001b[0m, \u001b[38;5;34m12\u001b[0m)             │         \u001b[38;5;34m3,084\u001b[0m │\n",
       "└─────────────────────────────────┴────────────────────────┴───────────────┘\n"
      ]
     },
     "metadata": {},
     "output_type": "display_data"
    },
    {
     "data": {
      "text/html": [
       "<pre style=\"white-space:pre;overflow-x:auto;line-height:normal;font-family:Menlo,'DejaVu Sans Mono',consolas,'Courier New',monospace\"><span style=\"font-weight: bold\"> Total params: </span><span style=\"color: #00af00; text-decoration-color: #00af00\">3,748</span> (14.64 KB)\n",
       "</pre>\n"
      ],
      "text/plain": [
       "\u001b[1m Total params: \u001b[0m\u001b[38;5;34m3,748\u001b[0m (14.64 KB)\n"
      ]
     },
     "metadata": {},
     "output_type": "display_data"
    },
    {
     "data": {
      "text/html": [
       "<pre style=\"white-space:pre;overflow-x:auto;line-height:normal;font-family:Menlo,'DejaVu Sans Mono',consolas,'Courier New',monospace\"><span style=\"font-weight: bold\"> Trainable params: </span><span style=\"color: #00af00; text-decoration-color: #00af00\">3,748</span> (14.64 KB)\n",
       "</pre>\n"
      ],
      "text/plain": [
       "\u001b[1m Trainable params: \u001b[0m\u001b[38;5;34m3,748\u001b[0m (14.64 KB)\n"
      ]
     },
     "metadata": {},
     "output_type": "display_data"
    },
    {
     "data": {
      "text/html": [
       "<pre style=\"white-space:pre;overflow-x:auto;line-height:normal;font-family:Menlo,'DejaVu Sans Mono',consolas,'Courier New',monospace\"><span style=\"font-weight: bold\"> Non-trainable params: </span><span style=\"color: #00af00; text-decoration-color: #00af00\">0</span> (0.00 B)\n",
       "</pre>\n"
      ],
      "text/plain": [
       "\u001b[1m Non-trainable params: \u001b[0m\u001b[38;5;34m0\u001b[0m (0.00 B)\n"
      ]
     },
     "metadata": {},
     "output_type": "display_data"
    }
   ],
   "source": [
    "conv_model = convolutional_model((128, 128, 1))\n",
    "conv_model.compile(optimizer='adam',\n",
    "                  loss='categorical_crossentropy',\n",
    "                  metrics=['accuracy'])\n",
    "conv_model.summary()\n",
    "    \n",
    "output = [['InputLayer', [(None, 128, 128, 1)], 0],\n",
    "        ['Conv2D', (None, 128, 128, 8), 392, 'same', 'linear', 'GlorotUniform'],\n",
    "        ['ReLU', (None, 64, 64, 8), 0],\n",
    "        ['MaxPooling2D', (None, 8, 8, 8), 0, (8, 8), (8, 8), 'same'],\n",
    "        ['Conv2D', (None, 8, 8, 16), 528, 'same', 'linear', 'GlorotUniform'],\n",
    "        ['ReLU', (None, 8, 8, 16), 0],\n",
    "        ['MaxPooling2D', (None, 2, 2, 16), 0, (4, 4), (4, 4), 'same'],\n",
    "        ['Flatten', (None, 64), 0],\n",
    "        ['Dense', (None, 12), 390, 'softmax']]\n",
    "    "
   ]
  },
  {
   "cell_type": "code",
   "execution_count": 13,
   "id": "40c94d34",
   "metadata": {
    "execution": {
     "iopub.execute_input": "2025-08-10T18:05:04.794016Z",
     "iopub.status.busy": "2025-08-10T18:05:04.793614Z",
     "iopub.status.idle": "2025-08-10T18:35:25.300218Z",
     "shell.execute_reply": "2025-08-10T18:35:25.297731Z"
    },
    "papermill": {
     "duration": 1820.516744,
     "end_time": "2025-08-10T18:35:25.302771",
     "exception": false,
     "start_time": "2025-08-10T18:05:04.786027",
     "status": "completed"
    },
    "tags": []
   },
   "outputs": [
    {
     "name": "stdout",
     "output_type": "stream",
     "text": [
      "Epoch 1/30\n",
      "\u001b[1m225/225\u001b[0m \u001b[32m━━━━━━━━━━━━━━━━━━━━\u001b[0m\u001b[37m\u001b[0m \u001b[1m75s\u001b[0m 267ms/step - accuracy: 0.4640 - loss: 1.5361 - val_accuracy: 0.8858 - val_loss: 0.3445\n",
      "Epoch 2/30\n",
      "\u001b[1m225/225\u001b[0m \u001b[32m━━━━━━━━━━━━━━━━━━━━\u001b[0m\u001b[37m\u001b[0m \u001b[1m48s\u001b[0m 216ms/step - accuracy: 0.8789 - loss: 0.3441 - val_accuracy: 0.9256 - val_loss: 0.2162\n",
      "Epoch 3/30\n",
      "\u001b[1m225/225\u001b[0m \u001b[32m━━━━━━━━━━━━━━━━━━━━\u001b[0m\u001b[37m\u001b[0m \u001b[1m83s\u001b[0m 222ms/step - accuracy: 0.9254 - loss: 0.2279 - val_accuracy: 0.9522 - val_loss: 0.1514\n",
      "Epoch 4/30\n",
      "\u001b[1m225/225\u001b[0m \u001b[32m━━━━━━━━━━━━━━━━━━━━\u001b[0m\u001b[37m\u001b[0m \u001b[1m80s\u001b[0m 215ms/step - accuracy: 0.9491 - loss: 0.1646 - val_accuracy: 0.9669 - val_loss: 0.1105\n",
      "Epoch 5/30\n",
      "\u001b[1m225/225\u001b[0m \u001b[32m━━━━━━━━━━━━━━━━━━━━\u001b[0m\u001b[37m\u001b[0m \u001b[1m49s\u001b[0m 217ms/step - accuracy: 0.9620 - loss: 0.1230 - val_accuracy: 0.9714 - val_loss: 0.0860\n",
      "Epoch 6/30\n",
      "\u001b[1m225/225\u001b[0m \u001b[32m━━━━━━━━━━━━━━━━━━━━\u001b[0m\u001b[37m\u001b[0m \u001b[1m48s\u001b[0m 214ms/step - accuracy: 0.9707 - loss: 0.0944 - val_accuracy: 0.9792 - val_loss: 0.0698\n",
      "Epoch 7/30\n",
      "\u001b[1m225/225\u001b[0m \u001b[32m━━━━━━━━━━━━━━━━━━━━\u001b[0m\u001b[37m\u001b[0m \u001b[1m83s\u001b[0m 218ms/step - accuracy: 0.9768 - loss: 0.0741 - val_accuracy: 0.9836 - val_loss: 0.0575\n",
      "Epoch 8/30\n",
      "\u001b[1m225/225\u001b[0m \u001b[32m━━━━━━━━━━━━━━━━━━━━\u001b[0m\u001b[37m\u001b[0m \u001b[1m82s\u001b[0m 218ms/step - accuracy: 0.9816 - loss: 0.0593 - val_accuracy: 0.9858 - val_loss: 0.0479\n",
      "Epoch 9/30\n",
      "\u001b[1m225/225\u001b[0m \u001b[32m━━━━━━━━━━━━━━━━━━━━\u001b[0m\u001b[37m\u001b[0m \u001b[1m49s\u001b[0m 218ms/step - accuracy: 0.9858 - loss: 0.0482 - val_accuracy: 0.9894 - val_loss: 0.0389\n",
      "Epoch 10/30\n",
      "\u001b[1m225/225\u001b[0m \u001b[32m━━━━━━━━━━━━━━━━━━━━\u001b[0m\u001b[37m\u001b[0m \u001b[1m48s\u001b[0m 213ms/step - accuracy: 0.9884 - loss: 0.0396 - val_accuracy: 0.9919 - val_loss: 0.0309\n",
      "Epoch 11/30\n",
      "\u001b[1m225/225\u001b[0m \u001b[32m━━━━━━━━━━━━━━━━━━━━\u001b[0m\u001b[37m\u001b[0m \u001b[1m83s\u001b[0m 216ms/step - accuracy: 0.9901 - loss: 0.0329 - val_accuracy: 0.9928 - val_loss: 0.0247\n",
      "Epoch 12/30\n",
      "\u001b[1m225/225\u001b[0m \u001b[32m━━━━━━━━━━━━━━━━━━━━\u001b[0m\u001b[37m\u001b[0m \u001b[1m47s\u001b[0m 211ms/step - accuracy: 0.9926 - loss: 0.0275 - val_accuracy: 0.9947 - val_loss: 0.0203\n",
      "Epoch 13/30\n",
      "\u001b[1m225/225\u001b[0m \u001b[32m━━━━━━━━━━━━━━━━━━━━\u001b[0m\u001b[37m\u001b[0m \u001b[1m48s\u001b[0m 213ms/step - accuracy: 0.9948 - loss: 0.0231 - val_accuracy: 0.9953 - val_loss: 0.0172\n",
      "Epoch 14/30\n",
      "\u001b[1m225/225\u001b[0m \u001b[32m━━━━━━━━━━━━━━━━━━━━\u001b[0m\u001b[37m\u001b[0m \u001b[1m47s\u001b[0m 211ms/step - accuracy: 0.9958 - loss: 0.0197 - val_accuracy: 0.9961 - val_loss: 0.0148\n",
      "Epoch 15/30\n",
      "\u001b[1m225/225\u001b[0m \u001b[32m━━━━━━━━━━━━━━━━━━━━\u001b[0m\u001b[37m\u001b[0m \u001b[1m48s\u001b[0m 214ms/step - accuracy: 0.9962 - loss: 0.0170 - val_accuracy: 0.9964 - val_loss: 0.0129\n",
      "Epoch 16/30\n",
      "\u001b[1m225/225\u001b[0m \u001b[32m━━━━━━━━━━━━━━━━━━━━\u001b[0m\u001b[37m\u001b[0m \u001b[1m47s\u001b[0m 210ms/step - accuracy: 0.9965 - loss: 0.0149 - val_accuracy: 0.9964 - val_loss: 0.0114\n",
      "Epoch 17/30\n",
      "\u001b[1m225/225\u001b[0m \u001b[32m━━━━━━━━━━━━━━━━━━━━\u001b[0m\u001b[37m\u001b[0m \u001b[1m48s\u001b[0m 213ms/step - accuracy: 0.9970 - loss: 0.0130 - val_accuracy: 0.9964 - val_loss: 0.0104\n",
      "Epoch 18/30\n",
      "\u001b[1m225/225\u001b[0m \u001b[32m━━━━━━━━━━━━━━━━━━━━\u001b[0m\u001b[37m\u001b[0m \u001b[1m48s\u001b[0m 212ms/step - accuracy: 0.9977 - loss: 0.0114 - val_accuracy: 0.9964 - val_loss: 0.0097\n",
      "Epoch 19/30\n",
      "\u001b[1m225/225\u001b[0m \u001b[32m━━━━━━━━━━━━━━━━━━━━\u001b[0m\u001b[37m\u001b[0m \u001b[1m82s\u001b[0m 213ms/step - accuracy: 0.9978 - loss: 0.0102 - val_accuracy: 0.9978 - val_loss: 0.0087\n",
      "Epoch 20/30\n",
      "\u001b[1m225/225\u001b[0m \u001b[32m━━━━━━━━━━━━━━━━━━━━\u001b[0m\u001b[37m\u001b[0m \u001b[1m48s\u001b[0m 213ms/step - accuracy: 0.9979 - loss: 0.0093 - val_accuracy: 0.9975 - val_loss: 0.0080\n",
      "Epoch 21/30\n",
      "\u001b[1m225/225\u001b[0m \u001b[32m━━━━━━━━━━━━━━━━━━━━\u001b[0m\u001b[37m\u001b[0m \u001b[1m48s\u001b[0m 213ms/step - accuracy: 0.9983 - loss: 0.0084 - val_accuracy: 0.9972 - val_loss: 0.0085\n",
      "Epoch 22/30\n",
      "\u001b[1m225/225\u001b[0m \u001b[32m━━━━━━━━━━━━━━━━━━━━\u001b[0m\u001b[37m\u001b[0m \u001b[1m47s\u001b[0m 210ms/step - accuracy: 0.9980 - loss: 0.0079 - val_accuracy: 0.9983 - val_loss: 0.0070\n",
      "Epoch 23/30\n",
      "\u001b[1m225/225\u001b[0m \u001b[32m━━━━━━━━━━━━━━━━━━━━\u001b[0m\u001b[37m\u001b[0m \u001b[1m82s\u001b[0m 210ms/step - accuracy: 0.9981 - loss: 0.0076 - val_accuracy: 0.9975 - val_loss: 0.0071\n",
      "Epoch 24/30\n",
      "\u001b[1m225/225\u001b[0m \u001b[32m━━━━━━━━━━━━━━━━━━━━\u001b[0m\u001b[37m\u001b[0m \u001b[1m48s\u001b[0m 214ms/step - accuracy: 0.9981 - loss: 0.0069 - val_accuracy: 0.9981 - val_loss: 0.0065\n",
      "Epoch 25/30\n",
      "\u001b[1m225/225\u001b[0m \u001b[32m━━━━━━━━━━━━━━━━━━━━\u001b[0m\u001b[37m\u001b[0m \u001b[1m47s\u001b[0m 210ms/step - accuracy: 0.9986 - loss: 0.0060 - val_accuracy: 0.9978 - val_loss: 0.0061\n",
      "Epoch 26/30\n",
      "\u001b[1m225/225\u001b[0m \u001b[32m━━━━━━━━━━━━━━━━━━━━\u001b[0m\u001b[37m\u001b[0m \u001b[1m82s\u001b[0m 211ms/step - accuracy: 0.9989 - loss: 0.0053 - val_accuracy: 0.9981 - val_loss: 0.0056\n",
      "Epoch 27/30\n",
      "\u001b[1m225/225\u001b[0m \u001b[32m━━━━━━━━━━━━━━━━━━━━\u001b[0m\u001b[37m\u001b[0m \u001b[1m83s\u001b[0m 217ms/step - accuracy: 0.9990 - loss: 0.0050 - val_accuracy: 0.9978 - val_loss: 0.0054\n",
      "Epoch 28/30\n",
      "\u001b[1m225/225\u001b[0m \u001b[32m━━━━━━━━━━━━━━━━━━━━\u001b[0m\u001b[37m\u001b[0m \u001b[1m47s\u001b[0m 210ms/step - accuracy: 0.9989 - loss: 0.0045 - val_accuracy: 0.9989 - val_loss: 0.0045\n",
      "Epoch 29/30\n",
      "\u001b[1m225/225\u001b[0m \u001b[32m━━━━━━━━━━━━━━━━━━━━\u001b[0m\u001b[37m\u001b[0m \u001b[1m48s\u001b[0m 211ms/step - accuracy: 0.9990 - loss: 0.0050 - val_accuracy: 0.9983 - val_loss: 0.0049\n",
      "Epoch 30/30\n",
      "\u001b[1m225/225\u001b[0m \u001b[32m━━━━━━━━━━━━━━━━━━━━\u001b[0m\u001b[37m\u001b[0m \u001b[1m48s\u001b[0m 213ms/step - accuracy: 0.9985 - loss: 0.0056 - val_accuracy: 0.9986 - val_loss: 0.0050\n"
     ]
    }
   ],
   "source": [
    "train_dataset = tf.data.Dataset.from_tensor_slices((X_train, Y_train)).batch(64)\n",
    "test_dataset = tf.data.Dataset.from_tensor_slices((X_test, Y_test)).batch(64)\n",
    "history = conv_model.fit(train_dataset, epochs=30, validation_data=test_dataset)"
   ]
  },
  {
   "cell_type": "code",
   "execution_count": 14,
   "id": "1b54e1cd",
   "metadata": {
    "execution": {
     "iopub.execute_input": "2025-08-10T18:35:26.035388Z",
     "iopub.status.busy": "2025-08-10T18:35:26.034673Z",
     "iopub.status.idle": "2025-08-10T18:35:26.818439Z",
     "shell.execute_reply": "2025-08-10T18:35:26.816994Z"
    },
    "papermill": {
     "duration": 1.155224,
     "end_time": "2025-08-10T18:35:26.820081",
     "exception": false,
     "start_time": "2025-08-10T18:35:25.664857",
     "status": "completed"
    },
    "tags": []
   },
   "outputs": [
    {
     "name": "stderr",
     "output_type": "stream",
     "text": [
      "/tmp/ipykernel_13/973814028.py:5: SettingWithCopyWarning: \n",
      "A value is trying to be set on a copy of a slice from a DataFrame\n",
      "\n",
      "See the caveats in the documentation: https://pandas.pydata.org/pandas-docs/stable/user_guide/indexing.html#returning-a-view-versus-a-copy\n",
      "  df_loss.rename(columns={'loss':'train','val_loss':'validation'},inplace=True)\n",
      "/tmp/ipykernel_13/973814028.py:7: SettingWithCopyWarning: \n",
      "A value is trying to be set on a copy of a slice from a DataFrame\n",
      "\n",
      "See the caveats in the documentation: https://pandas.pydata.org/pandas-docs/stable/user_guide/indexing.html#returning-a-view-versus-a-copy\n",
      "  df_acc.rename(columns={'accuracy':'train','val_accuracy':'validation'},inplace=True)\n"
     ]
    },
    {
     "data": {
      "text/plain": [
       "[Text(0.5, 0, 'Epoch'), Text(0, 0.5, 'Accuracy')]"
      ]
     },
     "execution_count": 14,
     "metadata": {},
     "output_type": "execute_result"
    },
    {
     "data": {
      "image/png": "[encoded data removed]",
      "text/plain": [
       "<Figure size 1200x800 with 1 Axes>"
      ]
     },
     "metadata": {},
     "output_type": "display_data"
    },
    {
     "data": {
      "image/png": "[encoded data removed]",
      "text/plain": [
       "<Figure size 1200x800 with 1 Axes>"
      ]
     },
     "metadata": {},
     "output_type": "display_data"
    }
   ],
   "source": [
    "# The history.history[\"loss\"] entry is a dictionary with as many values as epochs that the\n",
    "# model was trained on. \n",
    "df_loss_acc = pd.DataFrame(history.history)\n",
    "df_loss= df_loss_acc[['loss','val_loss']]\n",
    "df_loss.rename(columns={'loss':'train','val_loss':'validation'},inplace=True)\n",
    "df_acc= df_loss_acc[['accuracy','val_accuracy']]\n",
    "df_acc.rename(columns={'accuracy':'train','val_accuracy':'validation'},inplace=True)\n",
    "df_loss.plot(title='Model loss',figsize=(12,8)).set(xlabel='Epoch',ylabel='Loss')\n",
    "df_acc.plot(title='Model Accuracy',figsize=(12,8)).set(xlabel='Epoch',ylabel='Accuracy')"
   ]
  },
  {
   "cell_type": "code",
   "execution_count": 15,
   "id": "d4a41eca",
   "metadata": {
    "execution": {
     "iopub.execute_input": "2025-08-10T18:35:27.587734Z",
     "iopub.status.busy": "2025-08-10T18:35:27.587332Z",
     "iopub.status.idle": "2025-08-10T18:35:27.634338Z",
     "shell.execute_reply": "2025-08-10T18:35:27.633156Z"
    },
    "papermill": {
     "duration": 0.405537,
     "end_time": "2025-08-10T18:35:27.636325",
     "exception": false,
     "start_time": "2025-08-10T18:35:27.230788",
     "status": "completed"
    },
    "tags": []
   },
   "outputs": [],
   "source": [
    "# Load and preprocess the image\n",
    "img_path = '/kaggle/input/uploaded/dataset-card.jpg'\n",
    "img = Image.open(img_path).convert('L')  # Convert to grayscale\n",
    "img = img.resize((128, 128))             # Resize to match model input\n",
    "img_array = np.array(img) / 255.0        # Normalize\n",
    "img_array = img_array.reshape(1, 128, 128, 1)  # Add batch and channel dimensions\n"
   ]
  },
  {
   "cell_type": "code",
   "execution_count": 16,
   "id": "e40c2cf5",
   "metadata": {
    "execution": {
     "iopub.execute_input": "2025-08-10T18:35:28.443231Z",
     "iopub.status.busy": "2025-08-10T18:35:28.442818Z",
     "iopub.status.idle": "2025-08-10T18:35:29.497059Z",
     "shell.execute_reply": "2025-08-10T18:35:29.495775Z"
    },
    "papermill": {
     "duration": 1.416471,
     "end_time": "2025-08-10T18:35:29.498979",
     "exception": false,
     "start_time": "2025-08-10T18:35:28.082508",
     "status": "completed"
    },
    "tags": []
   },
   "outputs": [
    {
     "name": "stdout",
     "output_type": "stream",
     "text": [
      "\u001b[1m1/1\u001b[0m \u001b[32m━━━━━━━━━━━━━━━━━━━━\u001b[0m\u001b[37m\u001b[0m \u001b[1m1s\u001b[0m 934ms/step\n",
      "Predicted class: 2\n"
     ]
    }
   ],
   "source": [
    "prediction = conv_model.predict(img_array)\n",
    "predicted_class = np.argmax(prediction)\n",
    "print(\"Predicted class:\", predicted_class)\n"
   ]
  },
  {
   "cell_type": "code",
   "execution_count": 17,
   "id": "7c8a68d7",
   "metadata": {
    "execution": {
     "iopub.execute_input": "2025-08-10T18:35:30.234704Z",
     "iopub.status.busy": "2025-08-10T18:35:30.234323Z",
     "iopub.status.idle": "2025-08-10T18:35:30.294821Z",
     "shell.execute_reply": "2025-08-10T18:35:30.293694Z"
    },
    "papermill": {
     "duration": 0.432511,
     "end_time": "2025-08-10T18:35:30.296654",
     "exception": false,
     "start_time": "2025-08-10T18:35:29.864143",
     "status": "completed"
    },
    "tags": []
   },
   "outputs": [],
   "source": [
    "conv_model.save('/kaggle/working/hand_gesture_model.h5')"
   ]
  },
  {
   "cell_type": "code",
   "execution_count": 18,
   "id": "70d5a8d0",
   "metadata": {
    "execution": {
     "iopub.execute_input": "2025-08-10T18:35:31.104017Z",
     "iopub.status.busy": "2025-08-10T18:35:31.103593Z",
     "iopub.status.idle": "2025-08-10T18:35:31.170516Z",
     "shell.execute_reply": "2025-08-10T18:35:31.169417Z"
    },
    "papermill": {
     "duration": 0.441141,
     "end_time": "2025-08-10T18:35:31.172583",
     "exception": false,
     "start_time": "2025-08-10T18:35:30.731442",
     "status": "completed"
    },
    "tags": []
   },
   "outputs": [],
   "source": [
    "from tensorflow.keras.models import load_model\n",
    "\n",
    "model = load_model('/kaggle/working/hand_gesture_model.h5')"
   ]
  },
  {
   "cell_type": "code",
   "execution_count": 19,
   "id": "fd7f83ff",
   "metadata": {
    "execution": {
     "iopub.execute_input": "2025-08-10T18:35:31.911602Z",
     "iopub.status.busy": "2025-08-10T18:35:31.911234Z",
     "iopub.status.idle": "2025-08-10T18:35:32.104068Z",
     "shell.execute_reply": "2025-08-10T18:35:32.102930Z"
    },
    "papermill": {
     "duration": 0.564159,
     "end_time": "2025-08-10T18:35:32.106024",
     "exception": false,
     "start_time": "2025-08-10T18:35:31.541865",
     "status": "completed"
    },
    "tags": []
   },
   "outputs": [
    {
     "name": "stdout",
     "output_type": "stream",
     "text": [
      "\u001b[1m1/1\u001b[0m \u001b[32m━━━━━━━━━━━━━━━━━━━━\u001b[0m\u001b[37m\u001b[0m \u001b[1m0s\u001b[0m 119ms/step\n"
     ]
    }
   ],
   "source": [
    "prediction = model.predict(img_array)\n",
    "predicted_class = np.argmax(prediction)"
   ]
  },
  {
   "cell_type": "code",
   "execution_count": 20,
   "id": "3ef468db",
   "metadata": {
    "execution": {
     "iopub.execute_input": "2025-08-10T18:35:32.951119Z",
     "iopub.status.busy": "2025-08-10T18:35:32.949729Z",
     "iopub.status.idle": "2025-08-10T18:35:32.956828Z",
     "shell.execute_reply": "2025-08-10T18:35:32.955826Z"
    },
    "papermill": {
     "duration": 0.371362,
     "end_time": "2025-08-10T18:35:32.958680",
     "exception": false,
     "start_time": "2025-08-10T18:35:32.587318",
     "status": "completed"
    },
    "tags": []
   },
   "outputs": [],
   "source": [
    "def classify_hand_gesture(img_path, model):\n",
    "    img = Image.open(img_path).convert('L')\n",
    "    img = img.resize((128, 128))\n",
    "    img_array = np.array(img) / 255.0\n",
    "    img_array = img_array.reshape(1, 128, 128, 1)\n",
    "    prediction = model.predict(img_array)\n",
    "    return np.argmax(prediction)\n"
   ]
  }
 ],
 "metadata": {
  "kaggle": {
   "accelerator": "none",
   "dataSources": [
    {
     "datasetId": 98056,
     "sourceId": 376021,
     "sourceType": "datasetVersion"
    },
    {
     "datasetId": 8044199,
     "sourceId": 12726810,
     "sourceType": "datasetVersion"
    }
   ],
   "dockerImageVersionId": 31089,
   "isGpuEnabled": false,
   "isInternetEnabled": true,
   "language": "python",
   "sourceType": "notebook"
  },
  "kernelspec": {
   "display_name": "Python 3",
   "language": "python",
   "name": "python3"
  },
  "language_info": {
   "codemirror_mode": {
    "name": "ipython",
    "version": 3
   },
   "file_extension": ".py",
   "mimetype": "text/x-python",
   "name": "python",
   "nbconvert_exporter": "python",
   "pygments_lexer": "ipython3",
   "version": "3.11.13"
  },
  "papermill": {
   "default_parameters": {},
   "duration": 1956.905051,
   "end_time": "2025-08-10T18:35:37.002606",
   "environment_variables": {},
   "exception": null,
   "input_path": "__notebook__.ipynb",
   "output_path": "__notebook__.ipynb",
   "parameters": {},
   "start_time": "2025-08-10T18:03:00.097555",
   "version": "2.6.0"
  }
 },
 "nbformat": 4,
 "nbformat_minor": 5
}
